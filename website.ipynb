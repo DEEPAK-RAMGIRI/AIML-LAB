{
  "cells": [
    {
      "cell_type": "markdown",
      "metadata": {
        "id": "view-in-github",
        "colab_type": "text"
      },
      "source": [
        "<a href=\"https://colab.research.google.com/github/DEEPAK-RAMGIRI/AIML-LAB/blob/main/website.ipynb\" target=\"_parent\"><img src=\"https://colab.research.google.com/assets/colab-badge.svg\" alt=\"Open In Colab\"/></a>"
      ]
    },
    {
      "cell_type": "code",
      "execution_count": null,
      "metadata": {
        "id": "dzNR2xyspG7D"
      },
      "outputs": [],
      "source": [
        "import pandas as pd\n",
        "import numpy as np\n",
        "import matplotlib.pyplot as plt\n",
        "import nltk\n",
        "import re\n",
        "from sklearn.model_selection import train_test_split\n",
        "from sklearn.feature_extraction.text import TfidfVectorizer\n",
        "from sklearn.preprocessing import LabelEncoder, OneHotEncoder\n",
        "from nltk.corpus import stopwords\n",
        "from nltk.tokenize import word_tokenize\n",
        "import tensorflow as tf\n",
        "from tensorflow import keras\n",
        "from tensorflow.keras import layers"
      ]
    },
    {
      "cell_type": "code",
      "execution_count": null,
      "metadata": {
        "id": "OiCJtLLFjFC4"
      },
      "outputs": [],
      "source": [
        "df = pd.read_csv('website_classification.csv')"
      ]
    },
    {
      "cell_type": "code",
      "execution_count": null,
      "metadata": {
        "id": "rKFi5T5DjF0W"
      },
      "outputs": [],
      "source": [
        "df.head(5)"
      ]
    },
    {
      "cell_type": "code",
      "execution_count": null,
      "metadata": {
        "id": "7YOv-iXyjKOF"
      },
      "outputs": [],
      "source": [
        "df.shape #(rows,col)"
      ]
    },
    {
      "cell_type": "code",
      "execution_count": null,
      "metadata": {
        "id": "H33vij9SjA-t"
      },
      "outputs": [],
      "source": [
        "nltk.download('stopwords') # to use nltk stopwords we need to download the stopwords\n",
        "nltk.download('punkt_tab') #to use the punkt libariies"
      ]
    },
    {
      "cell_type": "code",
      "execution_count": null,
      "metadata": {
        "id": "7Z1jONcijk-E"
      },
      "outputs": [],
      "source": [
        "df.columns"
      ]
    },
    {
      "cell_type": "code",
      "execution_count": null,
      "metadata": {
        "id": "3E4wgcs1jpOb"
      },
      "outputs": [],
      "source": [
        "df.dtypes"
      ]
    },
    {
      "cell_type": "code",
      "execution_count": null,
      "metadata": {
        "id": "AE5Af_GAjt_C"
      },
      "outputs": [],
      "source": [
        "df.head(2) # here unamed : 0  and website url not required because it will be hindrance in upcoming while train the data"
      ]
    },
    {
      "cell_type": "code",
      "execution_count": null,
      "metadata": {
        "id": "IlFATHoqj8WC"
      },
      "outputs": [],
      "source": [
        "df = df.drop([\"Unnamed: 0\", \"website_url\"], axis=1)"
      ]
    },
    {
      "cell_type": "code",
      "execution_count": null,
      "metadata": {
        "id": "SuXQ_NuIj_9D"
      },
      "outputs": [],
      "source": [
        "df.head(2)"
      ]
    },
    {
      "cell_type": "code",
      "execution_count": null,
      "metadata": {
        "id": "6jzJKs9JkpCG"
      },
      "outputs": [],
      "source": [
        "pd.DataFrame(df.Category.unique()).values"
      ]
    },
    {
      "cell_type": "code",
      "execution_count": 7,
      "metadata": {
        "id": "bKulb-UYkDT6"
      },
      "outputs": [],
      "source": [
        "def clean_text(text):\n",
        "    tokens = word_tokenize(text.lower())\n",
        "    words = [re.sub(r'[^a-z]', '', word) for word in tokens]\n",
        "    stop_words = set(stopwords.words('english'))\n",
        "    filtered = [w for w in words if w and w not in stop_words]\n",
        "    return ' '.join(filtered)"
      ]
    },
    {
      "cell_type": "code",
      "execution_count": 8,
      "metadata": {
        "id": "mYul_2FAlNRk"
      },
      "outputs": [],
      "source": [
        "df['cleaned_website_text'] = df['cleaned_website_text'].apply(clean_text)"
      ]
    },
    {
      "cell_type": "code",
      "execution_count": 9,
      "metadata": {
        "id": "gmqgWKudoa1I"
      },
      "outputs": [],
      "source": [
        "label_encoder = LabelEncoder()\n",
        "df['category_id'] = label_encoder.fit_transform(df['Category'])\n",
        "num_classes = len(label_encoder.classes_)"
      ]
    },
    {
      "cell_type": "code",
      "execution_count": 10,
      "metadata": {
        "id": "CXvturc7oz6s"
      },
      "outputs": [],
      "source": [
        "vectorizer = TfidfVectorizer(max_features=3000)\n",
        "X = vectorizer.fit_transform(df['cleaned_website_text']).toarray()"
      ]
    },
    {
      "cell_type": "code",
      "execution_count": 11,
      "metadata": {
        "id": "4rdWSRXRo1cB"
      },
      "outputs": [],
      "source": [
        "y_encoded = df['category_id'].values.reshape(-1, 1)\n",
        "one_hot_encoder = OneHotEncoder(sparse_output=False)\n",
        "y = one_hot_encoder.fit_transform(y_encoded)"
      ]
    },
    {
      "cell_type": "code",
      "execution_count": 12,
      "metadata": {
        "id": "FvBnRfweo3Sa"
      },
      "outputs": [],
      "source": [
        "X_train, X_test, y_train, y_test = train_test_split(X, y, test_size=0.3, random_state=42)"
      ]
    },
    {
      "cell_type": "code",
      "execution_count": 20,
      "metadata": {
        "id": "PIaOGIBZo3wT"
      },
      "outputs": [],
      "source": [
        "# import numpy as np\n",
        "# from sklearn.preprocessing import OneHotEncoder\n",
        "\n",
        "# # Assuming y_train is your target variable\n",
        "# # If y_train is not one-hot encoded, one-hot encode it\n",
        "# if len(np.unique(y_train)) > 2:  # For multi-class classification\n",
        "#     encoder = OneHotEncoder(sparse=False)\n",
        "#     y_train = encoder.fit_transform(y_train.reshape(-1, 1))\n",
        "\n",
        "# # Activation Functions\n",
        "# def relu(x):\n",
        "#     return np.maximum(0, x)\n",
        "\n",
        "# def relu_derivative(x):\n",
        "#     return (x > 0).astype(float)\n",
        "\n",
        "# def softmax(x):\n",
        "#     exps = np.exp(x - np.max(x, axis=1, keepdims=True))\n",
        "#     return exps / np.sum(exps, axis=1, keepdims=True)\n",
        "\n",
        "# def sigmoid(x):\n",
        "#     return 1 / (1 + np.exp(-x))\n",
        "\n",
        "# def sigmoid_derivative(x):\n",
        "#     return x * (1 - x)\n",
        "\n",
        "# # Loss function (with small epsilon to prevent log(0))\n",
        "# def categorical_crossentropy(y_true, y_pred):\n",
        "#     epsilon = 1e-9\n",
        "#     return -np.mean(np.sum(y_true * np.log(y_pred + epsilon), axis=1))\n",
        "\n",
        "# # Initialize Neural Network Parameters\n",
        "# input_neurons = X_train.shape[1]  # Number of features\n",
        "# hidden_neurons = 5  # Hidden layer with 5 neurons\n",
        "# output_neurons = y_train.shape[1]  # Number of categories (output neurons)\n",
        "\n",
        "# # Initialize Weights and Biases\n",
        "# np.random.seed(42)\n",
        "# W1 = np.random.randn(input_neurons, hidden_neurons) * 0.01\n",
        "# b1 = np.zeros((1, hidden_neurons))\n",
        "# W2 = np.random.randn(hidden_neurons, output_neurons) * 0.01\n",
        "# b2 = np.zeros((1, output_neurons))\n",
        "\n",
        "# # Training Parameters\n",
        "# # Adjusted learning rate\n",
        "# learning_rate = 0.001  # Try lowering the learning rate\n",
        "\n",
        "# # Increase epochs for longer training\n",
        "# epochs = 5000  # Try more epochs for better convergence\n",
        "\n",
        "# # Training Loop\n",
        "# for epoch in range(epochs):\n",
        "#     # Forward Propagation\n",
        "#     hidden_input = np.dot(X_train, W1) + b1\n",
        "#     hidden_output = relu(hidden_input)\n",
        "\n",
        "#     final_input = np.dot(hidden_output, W2) + b2\n",
        "#     final_output = softmax(final_input)\n",
        "\n",
        "#     # Compute Loss (Categorical Cross-Entropy)\n",
        "#     loss = categorical_crossentropy(y_train, final_output)\n",
        "#     losses.append(loss)\n",
        "\n",
        "#     # Backpropagation\n",
        "#     error_output = final_output - y_train\n",
        "#     d_output = error_output\n",
        "\n",
        "#     error_hidden = d_output.dot(W2.T)\n",
        "#     d_hidden = error_hidden * relu_derivative(hidden_output)\n",
        "\n",
        "#     # Update Weights and Biases\n",
        "#     W2 -= hidden_output.T.dot(d_output) * learning_rate\n",
        "#     b2 -= np.sum(d_output, axis=0, keepdims=True) * learning_rate\n",
        "#     W1 -= X_train.T.dot(d_hidden) * learning_rate\n",
        "#     b1 -= np.sum(d_hidden, axis=0, keepdims=True) * learning_rate\n",
        "\n",
        "#     # Print loss every 500 epochs\n",
        "#     if epoch % 500 == 0:\n",
        "#         print(f\"Epoch {epoch}, Loss: {loss:.4f}\")\n"
      ]
    },
    {
      "cell_type": "markdown",
      "metadata": {
        "id": "kOqT1Biyo8VW"
      },
      "source": []
    },
    {
      "cell_type": "code",
      "execution_count": 21,
      "metadata": {
        "id": "3HL-_pe_z5dF"
      },
      "outputs": [],
      "source": [
        "# model = keras.Sequential([\n",
        "#         layers.Input(shape=(X_train.shape[1],)),\n",
        "#         layers.Dense(128, activation='relu'),  # Change activation function here\n",
        "#         layers.Dense(64, activation='relu'),   # Change activation function here\n",
        "#         layers.Dense(num_classes, activation='softmax')  # Output layer remains softmax\n",
        "#     ])\n"
      ]
    },
    {
      "cell_type": "code",
      "execution_count": 22,
      "metadata": {
        "id": "d61U1EIBsRBx",
        "collapsed": true
      },
      "outputs": [],
      "source": [
        "# # model = keras.Sequential([\n",
        "# #     layers.Input(shape=(X_train.shape[1],)),\n",
        "# #     layers.Dense(128, activation='relu'),\n",
        "# #     layers.Dense(64, activation='relu'),\n",
        "# #     layers.Dense(num_classes, activation='softmax')\n",
        "# # ])\n",
        "\n",
        "# model.compile(optimizer='adam',\n",
        "#               loss='categorical_crossentropy',\n",
        "#               metrics=['accuracy'])\n",
        "\n",
        "# # --- Training ---\n",
        "# history = model.fit(X_train, y_train, validation_data=(X_test, y_test),\n",
        "#                     epochs=500, batch_size=32, verbose=1)\n",
        "\n",
        "# # --- Evaluation ---\n",
        "# final_train_loss, final_train_acc = model.evaluate(X_train, y_train, verbose=0)\n",
        "# final_test_loss, final_test_acc = model.evaluate(X_test, y_test, verbose=0)\n",
        "\n",
        "# print(\"\\nFinal Loss & Accuracy:\")\n",
        "# print(f\"Train Loss: {final_train_loss:.4f} | Train Accuracy: {final_train_acc:.4f}\")\n",
        "# print(f\"Test Loss: {final_test_loss:.4f} | Test Accuracy: {final_test_acc:.4f}\")\n",
        "\n",
        "# # --- Plotting ---\n",
        "# plt.figure(figsize=(12, 5))\n",
        "\n",
        "# # Loss\n",
        "# plt.subplot(1, 2, 1)\n",
        "# plt.plot(history.history['loss'], label=\"Train Loss\")\n",
        "# plt.plot(history.history['val_loss'], label=\"Test Loss\")\n",
        "# plt.xlabel(\"Epochs\")\n",
        "# plt.ylabel(\"Loss\")\n",
        "# plt.legend()\n",
        "# plt.title(\"Loss Curve\")\n",
        "\n",
        "# # Accuracy\n",
        "# plt.subplot(1, 2, 2)\n",
        "# plt.plot(history.history['accuracy'], label=\"Train Accuracy\")\n",
        "# plt.plot(history.history['val_accuracy'], label=\"Test Accuracy\")\n",
        "# plt.xlabel(\"Epochs\")\n",
        "# plt.ylabel(\"Accuracy\")\n",
        "# plt.legend()\n",
        "# plt.title(\"Accuracy Curve\")\n",
        "\n",
        "# plt.tight_layout()\n",
        "# plt.show()"
      ]
    },
    {
      "cell_type": "code",
      "source": [
        "\n",
        "  # --- Neural Network ---\n",
        "  input_dim = X_train.shape[1]\n",
        "  hidden_dim = 64\n",
        "  output_dim = y.shape[1]\n",
        "\n",
        "  def relu(x):\n",
        "      return np.maximum(0, x)\n",
        "\n",
        "  def softmax(z):\n",
        "      e = np.exp(z - np.max(z, axis=1, keepdims=True))\n",
        "      return e / np.sum(e, axis=1, keepdims=True)\n",
        "\n",
        "  def forward(X, weights):\n",
        "      w1 = weights[:input_dim * hidden_dim].reshape(input_dim, hidden_dim)\n",
        "      b1 = weights[input_dim * hidden_dim:input_dim * hidden_dim + hidden_dim]\n",
        "      w2 = weights[input_dim * hidden_dim + hidden_dim:-output_dim].reshape(hidden_dim, output_dim)\n",
        "      b2 = weights[-output_dim:]\n",
        "\n",
        "      a1 = relu(X @ w1 + b1)\n",
        "      a2 = softmax(a1 @ w2 + b2)\n",
        "      return a2\n",
        "\n",
        "  def loss_fn(y_pred, y_true):\n",
        "      return -np.mean(np.sum(y_true * np.log(y_pred + 1e-9), axis=1))\n",
        "\n",
        "  def accuracy(preds, labels):\n",
        "      return np.mean(np.argmax(preds, axis=1) == np.argmax(labels, axis=1))\n",
        "\n",
        "  # --- ALO Implementation (basic version) ---\n",
        "  def ALO(fitness_func, dim, lb, ub, epochs=500, pop_size=10):\n",
        "      antlions = np.random.uniform(lb, ub, (pop_size, dim))\n",
        "      ants = np.copy(antlions)\n",
        "      scores = np.array([fitness_func(x) for x in antlions])\n",
        "      elite = antlions[np.argmin(scores)]\n",
        "      elite_score = np.min(scores)\n",
        "\n",
        "      def random_walk(dim, lb, ub):\n",
        "          steps = np.random.choice([-1, 1], size=(epochs, dim))\n",
        "          rw = np.cumsum(steps, axis=0)\n",
        "          rw_min = np.min(rw, axis=0)\n",
        "          rw_max = np.max(rw, axis=0)\n",
        "          norm_rw = (rw - rw_min) / (rw_max - rw_min + 1e-9)\n",
        "          return norm_rw * (ub - lb) + lb\n",
        "\n",
        "      for epoch in range(epochs):\n",
        "          for i in range(pop_size):\n",
        "              rand_antlion = antlions[np.random.randint(pop_size)]\n",
        "              RW1 = random_walk(dim, lb, ub)[epoch]\n",
        "              RW2 = random_walk(dim, lb, ub)[epoch]\n",
        "              ants[i] = (RW1 + RW2 + rand_antlion + elite) / 4\n",
        "\n",
        "          ants = np.clip(ants, lb, ub)\n",
        "          scores = np.array([fitness_func(x) for x in ants])\n",
        "          best_idx = np.argmin(scores)\n",
        "\n",
        "          if scores[best_idx] < elite_score:\n",
        "              elite_score = scores[best_idx]\n",
        "              elite = ants[best_idx]\n",
        "\n",
        "          antlions = np.copy(ants)\n",
        "\n",
        "      return elite\n",
        "\n",
        "  # --- Fitness ---\n",
        "  def fitness(solution):\n",
        "      y_pred = forward(X_train, solution)\n",
        "      return loss_fn(y_pred, y_train)\n",
        "\n",
        "  # --- Run ALO ---\n",
        "  dim = input_dim * hidden_dim + hidden_dim + hidden_dim * output_dim + output_dim\n",
        "  best_weights = ALO(fitness, dim, lb=-1, ub=1, epochs=100, pop_size=10)\n",
        "\n",
        "  # --- Final Evaluation ---\n",
        "  train_preds = forward(X_train, best_weights)\n",
        "  test_preds = forward(X_test, best_weights)\n",
        "\n",
        "  print(f\"Train Accuracy: {accuracy(train_preds, y_train):.4f}\")\n",
        "  print(f\"Test Accuracy: {accuracy(test_preds, y_test):.4f}\")\n"
      ],
      "metadata": {
        "id": "GLbu7wJtfllG",
        "colab": {
          "base_uri": "https://localhost:8080/"
        },
        "outputId": "a95fa4af-1a3d-44ea-ff99-a0c32876f020"
      },
      "execution_count": 23,
      "outputs": [
        {
          "output_type": "stream",
          "name": "stdout",
          "text": [
            "Train Accuracy: 0.0609\n",
            "Test Accuracy: 0.0780\n"
          ]
        }
      ]
    },
    {
      "cell_type": "code",
      "source": [
        "\n",
        "np.random.seed(42)\n",
        "\n",
        "# --- Normalize Inputs ---\n",
        "X_train = (X_train - X_train.mean(axis=0)) / (X_train.std(axis=0) + 1e-9)\n",
        "X_test = (X_test - X_test.mean(axis=0)) / (X_test.std(axis=0) + 1e-9)\n",
        "\n",
        "# --- Neural Network ---\n",
        "input_dim = X_train.shape[1]\n",
        "hidden_dim = 64\n",
        "output_dim = y_train.shape[1]\n",
        "\n",
        "def relu(x):\n",
        "    return np.maximum(0, x)\n",
        "\n",
        "def softmax(z):\n",
        "    e = np.exp(z - np.max(z, axis=1, keepdims=True))\n",
        "    return e / np.sum(e, axis=1, keepdims=True)\n",
        "\n",
        "def forward(X, weights):\n",
        "    w1 = weights[:input_dim * hidden_dim].reshape(input_dim, hidden_dim)\n",
        "    b1 = weights[input_dim * hidden_dim:input_dim * hidden_dim + hidden_dim]\n",
        "    w2 = weights[input_dim * hidden_dim + hidden_dim:-output_dim].reshape(hidden_dim, output_dim)\n",
        "    b2 = weights[-output_dim:]\n",
        "\n",
        "    a1 = relu(X @ w1 + b1)\n",
        "    a2 = softmax(a1 @ w2 + b2)\n",
        "    return a2\n",
        "\n",
        "def loss_fn(y_pred, y_true):\n",
        "    return -np.mean(np.sum(y_true * np.log(y_pred + 1e-9), axis=1))\n",
        "\n",
        "def accuracy(preds, labels):\n",
        "    return np.mean(np.argmax(preds, axis=1) == np.argmax(labels, axis=1))\n",
        "\n",
        "# --- Fitness Function ---\n",
        "def fitness(solution):\n",
        "    y_pred = forward(X_train, solution)\n",
        "    return loss_fn(y_pred, y_train)\n",
        "\n",
        "# --- ALO ---\n",
        "def ALO(fitness_func, dim, lb, ub, epochs=500, pop_size=30):\n",
        "    antlions = np.random.uniform(lb, ub, (pop_size, dim))\n",
        "    scores = np.array([fitness_func(x) for x in antlions])\n",
        "    elite = antlions[np.argmin(scores)]\n",
        "    elite_score = np.min(scores)\n",
        "\n",
        "    def random_walk(dim, lb, ub):\n",
        "        steps = np.random.choice([-1, 1], size=(epochs, dim))\n",
        "        rw = np.cumsum(steps, axis=0)\n",
        "        rw_min = np.min(rw, axis=0)\n",
        "        rw_max = np.max(rw, axis=0)\n",
        "        norm_rw = (rw - rw_min) / (rw_max - rw_min + 1e-9)\n",
        "        return norm_rw * (ub - lb) + lb\n",
        "\n",
        "    for epoch in range(epochs):\n",
        "        RW1 = random_walk(dim, lb, ub)[epoch]\n",
        "        RW2 = random_walk(dim, lb, ub)[epoch]\n",
        "\n",
        "        for i in range(pop_size):\n",
        "            rand_antlion = antlions[np.random.randint(pop_size)]\n",
        "            ants = (RW1 + RW2 + rand_antlion + elite) / 4\n",
        "            ants = np.clip(ants, lb, ub)\n",
        "            new_score = fitness_func(ants)\n",
        "\n",
        "            if new_score < scores[i]:\n",
        "                antlions[i] = ants\n",
        "                scores[i] = new_score\n",
        "\n",
        "                if new_score < elite_score:\n",
        "                    elite = ants\n",
        "                    elite_score = new_score\n",
        "\n",
        "    return elite\n",
        "\n",
        "# --- Run ALO ---\n",
        "dim = input_dim * hidden_dim + hidden_dim + hidden_dim * output_dim + output_dim\n",
        "best_weights = ALO(fitness, dim, lb=-2, ub=2, epochs=1000, pop_size=30)\n",
        "\n",
        "# --- Final Evaluation ---\n",
        "train_preds = forward(X_train, best_weights)\n",
        "test_preds = forward(X_test, best_weights)\n",
        "\n",
        "print(f\"Train Accuracy: {accuracy(train_preds, y_train):.4f}\")\n",
        "print(f\"Test Accuracy: {accuracy(test_preds, y_test):.4f}\")\n"
      ],
      "metadata": {
        "id": "4Spkmf2e7HL1"
      },
      "execution_count": null,
      "outputs": []
    },
    {
      "cell_type": "code",
      "source": [
        "import numpy as np\n",
        "import matplotlib.pyplot as plt\n",
        "import tensorflow as tf\n",
        "from tensorflow.keras import layers, models\n",
        "\n",
        "# Normalize input data\n",
        "X_train = (X_train - X_train.mean(axis=0)) / (X_train.std(axis=0) + 1e-9)\n",
        "X_test = (X_test - X_test.mean(axis=0)) / (X_test.std(axis=0) + 1e-9)\n",
        "\n",
        "input_dim = X_train.shape[1]\n",
        "hidden1_dim = 128\n",
        "hidden2_dim = 64\n",
        "output_dim = y_train.shape[1]\n",
        "\n",
        "# ----------------------\n",
        "# Keras Model Definition\n",
        "# ----------------------\n",
        "model = models.Sequential([\n",
        "    layers.Input(shape=(input_dim,)),\n",
        "    layers.Dense(hidden1_dim, activation='relu'),\n",
        "    layers.Dense(hidden2_dim, activation='relu'),\n",
        "    layers.Dense(output_dim, activation='softmax')\n",
        "])\n",
        "\n",
        "# Don't compile or fit the model — weights will be set manually\n",
        "\n",
        "# ------------------------\n",
        "# ALO Helper: Flatten/Set Weights\n",
        "# ------------------------\n",
        "def flatten_weights(model):\n",
        "    weights = []\n",
        "    for layer in model.layers:\n",
        "        for w in layer.get_weights():\n",
        "            weights.append(w.flatten())\n",
        "    return np.concatenate(weights)\n",
        "\n",
        "def set_model_weights(model, flat_weights):\n",
        "    new_weights = []\n",
        "    idx = 0\n",
        "    for layer in model.layers:\n",
        "        layer_weights = layer.get_weights()\n",
        "        new_layer_weights = []\n",
        "        for w in layer_weights:\n",
        "            shape = w.shape\n",
        "            size = np.prod(shape)\n",
        "            new_w = flat_weights[idx:idx+size].reshape(shape)\n",
        "            new_layer_weights.append(new_w)\n",
        "            idx += size\n",
        "        layer.set_weights(new_layer_weights)\n",
        "\n",
        "# Forward pass for ALO\n",
        "def forward_pass(X, flat_weights):\n",
        "    set_model_weights(model, flat_weights)\n",
        "    return model.predict(X, verbose=0)\n",
        "\n",
        "def loss_fn(y_pred, y_true):\n",
        "    return -np.mean(np.sum(y_true * np.log(y_pred + 1e-9), axis=1))\n",
        "\n",
        "def accuracy_fn(y_pred, y_true):\n",
        "    return np.mean(np.argmax(y_pred, axis=1) == np.argmax(y_true, axis=1))\n",
        "\n",
        "# -----------------\n",
        "# ALO Implementation\n",
        "# -----------------\n",
        "def ALO(fitness_func, dim, lb, ub, epochs=100, pop_size=10):\n",
        "    antlions = np.random.uniform(lb, ub, (pop_size, dim))\n",
        "    scores = np.array([fitness_func(x) for x in antlions])\n",
        "    elite = antlions[np.argmin(scores)]\n",
        "    elite_score = np.min(scores)\n",
        "\n",
        "    history_loss = []\n",
        "    history_acc = []\n",
        "\n",
        "    def random_walk(dim, lb, ub):\n",
        "        steps = np.random.choice([-1, 1], size=(epochs, dim))\n",
        "        rw = np.cumsum(steps, axis=0)\n",
        "        rw_min = np.min(rw, axis=0)\n",
        "        rw_max = np.max(rw, axis=0)\n",
        "        norm_rw = (rw - rw_min) / (rw_max - rw_min + 1e-9)\n",
        "        return norm_rw * (ub - lb) + lb\n",
        "\n",
        "    for epoch in range(epochs):\n",
        "        RW1 = random_walk(dim, lb, ub)[epoch]\n",
        "        RW2 = random_walk(dim, lb, ub)[epoch]\n",
        "\n",
        "        for i in range(pop_size):\n",
        "            rand_antlion = antlions[np.random.randint(pop_size)]\n",
        "            ants = (RW1 + RW2 + rand_antlion + elite) / 4\n",
        "            ants = np.clip(ants, lb, ub)\n",
        "            new_score = fitness_func(ants)\n",
        "\n",
        "            if new_score < scores[i]:\n",
        "                antlions[i] = ants\n",
        "                scores[i] = new_score\n",
        "\n",
        "                if new_score < elite_score:\n",
        "                    elite = ants\n",
        "                    elite_score = new_score\n",
        "\n",
        "        y_pred = forward_pass(X_train, elite)\n",
        "        acc = accuracy_fn(y_pred, y_train)\n",
        "        history_loss.append(elite_score)\n",
        "        history_acc.append(acc)\n",
        "\n",
        "    return elite, history_loss, history_acc\n",
        "\n",
        "# Fitness function for ALO\n",
        "def fitness_function(weights):\n",
        "    y_pred = forward_pass(X_train, weights)\n",
        "    return loss_fn(y_pred, y_train)\n",
        "\n",
        "# -------------------\n",
        "# Run ALO Optimization\n",
        "# -------------------\n",
        "flat_dim = len(flatten_weights(model))\n",
        "best_weights, loss_history, acc_history = ALO(fitness_function, flat_dim, lb=-2, ub=2, epochs=10, pop_size=20)\n",
        "\n",
        "# Set best weights to Keras model\n",
        "set_model_weights(model, best_weights)\n",
        "\n",
        "# -------------------\n",
        "# Evaluation\n",
        "# -------------------\n",
        "final_train_loss, final_train_acc = model.evaluate(X_train, y_train, verbose=0)\n",
        "final_test_loss, final_test_acc = model.evaluate(X_test, y_test, verbose=0)\n",
        "\n",
        "print(\"\\nFinal Loss & Accuracy:\")\n",
        "print(f\"Train Loss: {final_train_loss:.4f} | Train Accuracy: {final_train_acc:.4f}\")\n",
        "print(f\"Test Loss: {final_test_loss:.4f} | Test Accuracy: {final_test_acc:.4f}\")\n",
        "\n",
        "# -------------------\n",
        "# Plotting\n",
        "# -------------------\n",
        "plt.figure(figsize=(12, 5))\n",
        "\n",
        "# Loss\n",
        "plt.subplot(1, 2, 1)\n",
        "plt.plot(loss_history, label=\"Train Loss (ALO)\")\n",
        "plt.xlabel(\"Epochs\")\n",
        "plt.ylabel(\"Loss\")\n",
        "plt.legend()\n",
        "plt.title(\"Loss Curve\")\n",
        "\n",
        "# Accuracy\n",
        "plt.subplot(1, 2, 2)\n",
        "plt.plot(acc_history, label=\"Train Accuracy (ALO)\")\n",
        "plt.xlabel(\"Epochs\")\n",
        "plt.ylabel(\"Accuracy\")\n",
        "plt.legend()\n",
        "plt.title(\"Accuracy Curve\")\n",
        "\n",
        "plt.tight_layout()\n",
        "plt.show()\n"
      ],
      "metadata": {
        "id": "Y97nQmm6-YBc"
      },
      "execution_count": null,
      "outputs": []
    }
  ],
  "metadata": {
    "colab": {
      "provenance": [],
      "authorship_tag": "ABX9TyM+9tdynf82ZJ3mULulQ7fM",
      "include_colab_link": true
    },
    "kernelspec": {
      "display_name": "Python 3",
      "name": "python3"
    },
    "language_info": {
      "name": "python"
    }
  },
  "nbformat": 4,
  "nbformat_minor": 0
}