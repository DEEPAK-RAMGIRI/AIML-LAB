{
  "nbformat": 4,
  "nbformat_minor": 0,
  "metadata": {
    "colab": {
      "provenance": [],
      "authorship_tag": "ABX9TyP5VGCUhmMW6iHkXMtlgIFj",
      "include_colab_link": true
    },
    "kernelspec": {
      "name": "python3",
      "display_name": "Python 3"
    },
    "language_info": {
      "name": "python"
    }
  },
  "cells": [
    {
      "cell_type": "markdown",
      "metadata": {
        "id": "view-in-github",
        "colab_type": "text"
      },
      "source": [
        "<a href=\"https://colab.research.google.com/github/DEEPAK-RAMGIRI/AIML-LAB/blob/main/LAB_002.ipynb\" target=\"_parent\"><img src=\"https://colab.research.google.com/assets/colab-badge.svg\" alt=\"Open In Colab\"/></a>"
      ]
    },
    {
      "cell_type": "markdown",
      "source": [
        "#  Implement Breadth First, Depth First and A* Search Algorithms"
      ],
      "metadata": {
        "id": "Htt9WCi9WQ5S"
      }
    },
    {
      "cell_type": "markdown",
      "source": [
        "* Part 1 – Implement Breadth First Search Algorithm using a Queue\n",
        "\n"
      ],
      "metadata": {
        "id": "Sg8OwJK_WZPI"
      }
    },
    {
      "cell_type": "code",
      "execution_count": null,
      "metadata": {
        "id": "AyhpzRq6VkM1"
      },
      "outputs": [],
      "source": [
        "from numpy import *\n",
        "from queue import Queue"
      ]
    },
    {
      "cell_type": "code",
      "source": [
        "graph={0:[1,3],1:[0,2,3],2:[4,1,5],3:[4,0,1],4:[2,3,5],5:[4,2],6:[]}\n",
        "print(f'the adjacency list is representing the graph {graph}')"
      ],
      "metadata": {
        "colab": {
          "base_uri": "https://localhost:8080/"
        },
        "id": "XQrkHE5wWmpc",
        "outputId": "b17384ee-52e3-411a-a8b3-b5e4eba117b2"
      },
      "execution_count": null,
      "outputs": [
        {
          "output_type": "stream",
          "name": "stdout",
          "text": [
            "the adjacency list is representing the graph {0: [1, 3], 1: [0, 2, 3], 2: [4, 1, 5], 3: [4, 0, 1], 4: [2, 3, 5], 5: [4, 2], 6: []}\n"
          ]
        }
      ]
    },
    {
      "cell_type": "code",
      "source": [
        "def bfs(graph,source):\n",
        "  Q=Queue()\n",
        "  visited_vertices=set()\n",
        "  Q.put(source)\n",
        "  visited_vertices.update({1})\n",
        "  while not Q.empty():\n",
        "    vertex=Q.get()\n",
        "    print(vertex,end=\"-->\")\n",
        "    for u in graph[vertex]:\n",
        "      if u not in  visited_vertices:\n",
        "        Q.put(u)\n",
        "        visited_vertices.update({u})\n",
        "print(\"bfs traversal of graph with source 1\")\n",
        "bfs(graph,1)"
      ],
      "metadata": {
        "colab": {
          "base_uri": "https://localhost:8080/"
        },
        "id": "7ZHQ1bitWqDv",
        "outputId": "42622cc1-9c22-49a2-d9c0-72fb4c49f0af"
      },
      "execution_count": null,
      "outputs": [
        {
          "output_type": "stream",
          "name": "stdout",
          "text": [
            "bfs traversal of graph with source 1\n",
            "1-->0-->2-->3-->4-->5-->"
          ]
        }
      ]
    },
    {
      "cell_type": "markdown",
      "source": [
        "* Part 2 - Implement Depth First Search Algorithm using a Stack\n",
        "\n"
      ],
      "metadata": {
        "id": "5yF9yqT4Ww0j"
      }
    },
    {
      "cell_type": "code",
      "source": [
        "graphs={'a':['b','s'],'b':['a'],'c':['s','e','f','d'],'d':['c','e'],'e':['h','c'],'f':['c','g'],'g':['s','f','h'],'h':['e','g'],'s':['a','c','g']}\n",
        "print(f'the adjacency list is representing the graph {graphs}')\n",
        "graphs={'a':['b','s'],'b':['a'],'c':['s','e','f','d'],'d':['c','e'],'e':['h','c'],'f':['c','g'],'g':['s','f','h'],'h':['e','g'],'s':['a','c','g']}\n",
        "print(f'the adjacency list is representing the graph {graphs}')"
      ],
      "metadata": {
        "colab": {
          "base_uri": "https://localhost:8080/"
        },
        "id": "mrvd3X07WqPA",
        "outputId": "75105df6-5003-4535-a5c5-9b728f2fdf82"
      },
      "execution_count": null,
      "outputs": [
        {
          "output_type": "stream",
          "name": "stdout",
          "text": [
            "the adjacency list is representing the graph {'a': ['b', 's'], 'b': ['a'], 'c': ['s', 'e', 'f', 'd'], 'd': ['c', 'e'], 'e': ['h', 'c'], 'f': ['c', 'g'], 'g': ['s', 'f', 'h'], 'h': ['e', 'g'], 's': ['a', 'c', 'g']}\n",
            "the adjacency list is representing the graph {'a': ['b', 's'], 'b': ['a'], 'c': ['s', 'e', 'f', 'd'], 'd': ['c', 'e'], 'e': ['h', 'c'], 'f': ['c', 'g'], 'g': ['s', 'f', 'h'], 'h': ['e', 'g'], 's': ['a', 'c', 'g']}\n"
          ]
        }
      ]
    },
    {
      "cell_type": "code",
      "source": [
        "def dfs(graphs,node,visited):\n",
        "  if node not in visited:\n",
        "    visited.append(node)\n",
        "    for k in graphs[node]:\n",
        "      dfs(graphs,k,visited)\n",
        "  return visited\n",
        "visited=dfs(graphs,'d',[])\n",
        "print(visited)"
      ],
      "metadata": {
        "id": "Xt-ycmLXXCWS",
        "outputId": "ccbd33f0-ba00-4ea5-9af9-7af5463ff4f4",
        "colab": {
          "base_uri": "https://localhost:8080/"
        }
      },
      "execution_count": null,
      "outputs": [
        {
          "output_type": "stream",
          "name": "stdout",
          "text": [
            "['d', 'c', 's', 'a', 'b', 'g', 'f', 'h', 'e']\n"
          ]
        }
      ]
    }
  ]
}